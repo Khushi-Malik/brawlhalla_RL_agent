{
  "cells": [
    {
      "cell_type": "markdown",
      "metadata": {
        "id": "hyyN-2qyK_T2"
      },
      "source": [
        "# Stable Baselines3 Tutorial - Getting Started\n",
        "\n",
        "Github repo: https://github.com/araffin/rl-tutorial-jnrr19\n",
        "\n",
        "Stable-Baselines3: https://github.com/DLR-RM/stable-baselines3\n",
        "\n",
        "Documentation: https://stable-baselines.readthedocs.io/en/master/\n",
        "\n",
        "RL Baselines3 zoo: https://github.com/DLR-RM/rl-baselines3-zoo\n",
        "\n",
        "\n",
        "[RL Baselines3 Zoo](https://github.com/DLR-RM/rl-baselines3-zoo) is a training framework for Reinforcement Learning (RL), using Stable Baselines3.\n",
        "\n",
        "It provides scripts for training, evaluating agents, tuning hyperparameters, plotting results and recording videos.\n",
        "\n",
        "## Introduction\n",
        "\n",
        "In this notebook, you will learn the basics for using stable baselines3 library: how to create a RL model, train it and evaluate it. Because all algorithms share the same interface, we will see how simple it is to switch from one algorithm to another.\n",
        "\n",
        "\n",
        "## Install Dependencies and Stable Baselines3 Using Pip\n",
        "\n",
        "List of full dependencies can be found in the [README](https://github.com/DLR-RM/stable-baselines3).\n",
        "\n",
        "\n",
        "```\n",
        "pip install stable-baselines3[extra]\n",
        "```"
      ]
    },
    {
      "cell_type": "code",
      "execution_count": 6,
      "metadata": {
        "id": "RywNeENv8uaB"
      },
      "outputs": [],
      "source": [
        "# for autoformatting\n",
        "# %load_ext jupyter_black"
      ]
    },
    {
      "cell_type": "code",
      "execution_count": null,
      "metadata": {
        "id": "gWskDE2c9WoN"
      },
      "outputs": [
        {
          "name": "stdout",
          "output_type": "stream",
          "text": [
            "This is a test\n"
          ]
        }
      ],
      "source": [
        "# !apt-get update && apt-get install ffmpeg freeglut3-dev xvfb  # For visualization\n",
        "# !pip install \"stable-baselines3[extra]>=2.0.0a4\"\n",
        "\n",
        "print(\"This is a test\")\n",
        "print(\"This is another test AAAABBBB\")"
      ]
    },
    {
      "cell_type": "code",
      "execution_count": 8,
      "metadata": {
        "id": "U29X1-B-AIKE"
      },
      "outputs": [
        {
          "name": "stdout",
          "output_type": "stream",
          "text": [
            "stable_baselines3.__version__='2.6.0a0'\n"
          ]
        }
      ],
      "source": [
        "import stable_baselines3\n",
        "\n",
        "print(f\"{stable_baselines3.__version__=}\")"
      ]
    },
    {
      "cell_type": "markdown",
      "metadata": {
        "id": "FtY8FhliLsGm"
      },
      "source": [
        "## Imports"
      ]
    },
    {
      "cell_type": "markdown",
      "metadata": {
        "id": "gcX8hEcaUpR0"
      },
      "source": [
        "Stable-Baselines works on environments that follow the [gym interface](https://stable-baselines.readthedocs.io/en/master/guide/custom_env.html).\n",
        "You can find a list of available environment [here](https://gym.openai.com/envs/#classic_control).\n",
        "\n",
        "It is also recommended to check the [source code](https://github.com/openai/gym) to learn more about the observation and action space of each env, as gym does not have a proper documentation.\n",
        "Not all algorithms can work with all action spaces, you can find more in this [recap table](https://stable-baselines.readthedocs.io/en/master/guide/algos.html)"
      ]
    },
    {
      "cell_type": "code",
      "execution_count": 9,
      "metadata": {
        "id": "BIedd7Pz9sOs"
      },
      "outputs": [
        {
          "name": "stdout",
          "output_type": "stream",
          "text": [
            "gym.__version__='1.0.0'\n"
          ]
        }
      ],
      "source": [
        "import gymnasium as gym\n",
        "import numpy as np\n",
        "\n",
        "print(f\"{gym.__version__=}\")"
      ]
    },
    {
      "cell_type": "markdown",
      "metadata": {
        "id": "Ae32CtgzTG3R"
      },
      "source": [
        "The first thing you need to import is the RL model, check the documentation to know what you can use on which problem"
      ]
    },
    {
      "cell_type": "code",
      "execution_count": 10,
      "metadata": {
        "id": "R7tKaBFrTR0a"
      },
      "outputs": [],
      "source": [
        "from stable_baselines3 import PPO"
      ]
    },
    {
      "cell_type": "markdown",
      "metadata": {
        "id": "-0_8OQbOTTNT"
      },
      "source": [
        "The next thing you need to import is the policy class that will be used to create the networks (for the policy/value functions).\n",
        "This step is optional as you can directly use strings in the constructor:\n",
        "\n",
        "```PPO('MlpPolicy', env)``` instead of ```PPO(MlpPolicy, env)```\n",
        "\n",
        "Note that some algorithms like `SAC` have their own `MlpPolicy`, that's why using string for the policy is the recommened option."
      ]
    },
    {
      "cell_type": "code",
      "execution_count": 11,
      "metadata": {
        "id": "ROUJr675TT01"
      },
      "outputs": [],
      "source": [
        "from stable_baselines3.ppo import MlpPolicy"
      ]
    },
    {
      "cell_type": "markdown",
      "metadata": {
        "id": "RapkYvTXL7Cd"
      },
      "source": [
        "## Create the Gym env and instantiate the agent\n",
        "\n",
        "For this example, we will use CartPole environment, a classic control problem.\n",
        "\n",
        "\"A pole is attached by an un-actuated joint to a cart, which moves along a frictionless track. The system is controlled by applying a force of +1 or -1 to the cart. The pendulum starts upright, and the goal is to prevent it from falling over. A reward of +1 is provided for every timestep that the pole remains upright. \"\n",
        "\n",
        "Cartpole environment: [https://gymnasium.farama.org/environments/classic_control/cart_pole/](https://gymnasium.farama.org/environments/classic_control/cart_pole/)\n",
        "\n",
        "![Cartpole](https://cdn-images-1.medium.com/max/1143/1*h4WTQNVIsvMXJTCpXm_TAw.gif)\n",
        "\n",
        "Note: vectorized environments allow to easily multiprocess training. In this example, we are using only one process, hence the DummyVecEnv.\n",
        "\n",
        "We chose the MlpPolicy because input of CartPole is a feature vector, not images.\n",
        "\n",
        "The type of action to use (discrete/continuous) will be automatically deduced from the environment action space\n",
        "\n",
        "\n",
        "Here we are using the [Proximal Policy Optimization](https://stable-baselines.readthedocs.io/en/master/modules/ppo2.html) algorithm, which is an Actor-Critic method: it uses a value function to improve the policy gradient descent (by reducing the variance).\n",
        "\n",
        "It combines ideas from [A2C](https://stable-baselines.readthedocs.io/en/master/modules/a2c.html) (having multiple workers and using an entropy bonus for exploration) and [TRPO](https://stable-baselines.readthedocs.io/en/master/modules/trpo.html) (it uses a trust region to improve stability and avoid catastrophic drops in performance).\n",
        "\n",
        "PPO is an on-policy algorithm, which means that the trajectories used to update the networks must be collected using the latest policy.\n",
        "It is usually less sample efficient than off-policy alorithms like [DQN](https://stable-baselines.readthedocs.io/en/master/modules/dqn.html), [SAC](https://stable-baselines.readthedocs.io/en/master/modules/sac.html) or [TD3](https://stable-baselines.readthedocs.io/en/master/modules/td3.html), but is much faster regarding wall-clock time.\n"
      ]
    },
    {
      "cell_type": "code",
      "execution_count": 12,
      "metadata": {
        "id": "pUWGZp3i9wyf"
      },
      "outputs": [],
      "source": [
        "env = gym.make(\"CartPole-v1\", render_mode=\"rgb_array\")\n",
        "model = PPO(MlpPolicy, env, verbose=0)"
      ]
    },
    {
      "cell_type": "markdown",
      "metadata": {
        "id": "4efFdrQ7MBvl"
      },
      "source": [
        "We create a helper function to evaluate the agent:"
      ]
    },
    {
      "cell_type": "code",
      "execution_count": 13,
      "metadata": {
        "id": "63M8mSKR-6Zt"
      },
      "outputs": [],
      "source": [
        "def evaluate(model, num_episodes=100, deterministic=True):\n",
        "    \"\"\"\n",
        "    Evaluate a RL agent\n",
        "    :param model: (BaseRLModel object) the RL Agent\n",
        "    :param num_episodes: (int) number of episodes to evaluate it\n",
        "    :return: (float) Mean reward for the last num_episodes\n",
        "    \"\"\"\n",
        "    # This function will only work for a single Environment\n",
        "    vec_env = model.get_env()\n",
        "    all_episode_rewards = []\n",
        "    for i in range(num_episodes):\n",
        "        episode_rewards = []\n",
        "        done = False\n",
        "        obs = vec_env.reset()\n",
        "        while not done:\n",
        "            # _states are only useful when using LSTM policies\n",
        "            action, _states = model.predict(obs, deterministic=deterministic)\n",
        "            # here, action, rewards and dones are arrays\n",
        "            # because we are using vectorized env\n",
        "            # also note that the step only returns a 4-tuple, as the env that is returned\n",
        "            # by model.get_env() is an sb3 vecenv that wraps the >v0.26 API\n",
        "            obs, reward, done, info = vec_env.step(action)\n",
        "            episode_rewards.append(reward)\n",
        "\n",
        "        all_episode_rewards.append(sum(episode_rewards))\n",
        "\n",
        "    mean_episode_reward = np.mean(all_episode_rewards)\n",
        "    print(\"Mean reward:\", mean_episode_reward, \"Num episodes:\", num_episodes)\n",
        "\n",
        "    return mean_episode_reward"
      ]
    },
    {
      "cell_type": "markdown",
      "metadata": {
        "id": "6hkyafs--gJz"
      },
      "source": [
        "In fact, Stable-Baselines3 already provides you with that helper:"
      ]
    },
    {
      "cell_type": "code",
      "execution_count": 14,
      "metadata": {
        "id": "s6ZNldIR-fce"
      },
      "outputs": [],
      "source": [
        "from stable_baselines3.common.evaluation import evaluate_policy"
      ]
    },
    {
      "cell_type": "markdown",
      "metadata": {
        "id": "zjEVOIY8NVeK"
      },
      "source": [
        "Let's evaluate the un-trained agent, this should be a random agent."
      ]
    },
    {
      "cell_type": "code",
      "execution_count": 15,
      "metadata": {
        "id": "xDHLMA6NFk95"
      },
      "outputs": [
        {
          "name": "stdout",
          "output_type": "stream",
          "text": [
            "mean_reward:9.88 +/- 0.62\n"
          ]
        },
        {
          "name": "stderr",
          "output_type": "stream",
          "text": [
            "/Library/Frameworks/Python.framework/Versions/3.10/lib/python3.10/site-packages/stable_baselines3/common/evaluation.py:67: UserWarning: Evaluation environment is not wrapped with a ``Monitor`` wrapper. This may result in reporting modified episode lengths and rewards, if other wrappers happen to modify these. Consider wrapping environment first with ``Monitor`` wrapper.\n",
            "  warnings.warn(\n"
          ]
        }
      ],
      "source": [
        "# Use a separate environement for evaluation\n",
        "eval_env = gym.make(\"CartPole-v1\", render_mode=\"rgb_array\")\n",
        "\n",
        "# Random Agent, before training\n",
        "mean_reward, std_reward = evaluate_policy(model, eval_env, n_eval_episodes=100)\n",
        "\n",
        "print(f\"mean_reward:{mean_reward:.2f} +/- {std_reward:.2f}\")"
      ]
    },
    {
      "cell_type": "markdown",
      "metadata": {
        "id": "r5UoXTZPNdFE"
      },
      "source": [
        "## Train the agent and evaluate it"
      ]
    },
    {
      "cell_type": "code",
      "execution_count": 16,
      "metadata": {
        "id": "e4cfSXIB-pTF"
      },
      "outputs": [
        {
          "data": {
            "text/plain": [
              "<stable_baselines3.ppo.ppo.PPO at 0x1791dace0>"
            ]
          },
          "execution_count": 16,
          "metadata": {},
          "output_type": "execute_result"
        }
      ],
      "source": [
        "# Train the agent for 10000 steps\n",
        "model.learn(total_timesteps=10_000)"
      ]
    },
    {
      "cell_type": "code",
      "execution_count": 17,
      "metadata": {
        "id": "ygl_gVmV_QP7"
      },
      "outputs": [
        {
          "name": "stdout",
          "output_type": "stream",
          "text": [
            "mean_reward:314.17 +/- 114.27\n"
          ]
        }
      ],
      "source": [
        "# Evaluate the trained agent\n",
        "mean_reward, std_reward = evaluate_policy(model, eval_env, n_eval_episodes=100)\n",
        "\n",
        "print(f\"mean_reward:{mean_reward:.2f} +/- {std_reward:.2f}\")"
      ]
    },
    {
      "cell_type": "markdown",
      "metadata": {
        "id": "A00W6yY3NkHG"
      },
      "source": [
        "Apparently the training went well, the mean reward increased a lot !"
      ]
    },
    {
      "cell_type": "markdown",
      "metadata": {
        "id": "xVm9QPNVwKXN"
      },
      "source": [
        "### Prepare video recording"
      ]
    },
    {
      "cell_type": "code",
      "execution_count": 18,
      "metadata": {
        "id": "MPyfQxD5z26J"
      },
      "outputs": [],
      "source": [
        "# Set up fake display; otherwise rendering will fail\n",
        "import os\n",
        "os.system(\"Xvfb :1 -screen 0 1024x768x24 &\")\n",
        "os.environ['DISPLAY'] = ':1'"
      ]
    },
    {
      "cell_type": "code",
      "execution_count": 19,
      "metadata": {
        "id": "SLzXxO8VMD6N"
      },
      "outputs": [],
      "source": [
        "import base64\n",
        "from pathlib import Path\n",
        "\n",
        "from IPython import display as ipythondisplay\n",
        "\n",
        "\n",
        "def show_videos(video_path=\"\", prefix=\"\"):\n",
        "    \"\"\"\n",
        "    Taken from https://github.com/eleurent/highway-env\n",
        "\n",
        "    :param video_path: (str) Path to the folder containing videos\n",
        "    :param prefix: (str) Filter the video, showing only the only starting with this prefix\n",
        "    \"\"\"\n",
        "    html = []\n",
        "    for mp4 in Path(video_path).glob(\"{}*.mp4\".format(prefix)):\n",
        "        video_b64 = base64.b64encode(mp4.read_bytes())\n",
        "        html.append(\n",
        "            \"\"\"<video alt=\"{}\" autoplay\n",
        "                    loop controls style=\"height: 400px;\">\n",
        "                    <source src=\"data:video/mp4;base64,{}\" type=\"video/mp4\" />\n",
        "                </video>\"\"\".format(\n",
        "                mp4, video_b64.decode(\"ascii\")\n",
        "            )\n",
        "        )\n",
        "    ipythondisplay.display(ipythondisplay.HTML(data=\"<br>\".join(html)))"
      ]
    },
    {
      "cell_type": "markdown",
      "metadata": {
        "id": "LTRNUfulOGaF"
      },
      "source": [
        "We will record a video using the [VecVideoRecorder](https://stable-baselines.readthedocs.io/en/master/guide/vec_envs.html#vecvideorecorder) wrapper, you will learn about those wrapper in the next notebook."
      ]
    },
    {
      "cell_type": "code",
      "execution_count": 20,
      "metadata": {
        "id": "Trag9dQpOIhx"
      },
      "outputs": [],
      "source": [
        "from stable_baselines3.common.vec_env import VecVideoRecorder, DummyVecEnv\n",
        "\n",
        "\n",
        "def record_video(env_id, model, video_length=500, prefix=\"\", video_folder=\"videos/\"):\n",
        "    \"\"\"\n",
        "    :param env_id: (str)\n",
        "    :param model: (RL model)\n",
        "    :param video_length: (int)\n",
        "    :param prefix: (str)\n",
        "    :param video_folder: (str)\n",
        "    \"\"\"\n",
        "    eval_env = DummyVecEnv([lambda: gym.make(\"CartPole-v1\", render_mode=\"rgb_array\")])\n",
        "    # Start the video at step=0 and record 500 steps\n",
        "    eval_env = VecVideoRecorder(\n",
        "        eval_env,\n",
        "        video_folder=video_folder,\n",
        "        record_video_trigger=lambda step: step == 0,\n",
        "        video_length=video_length,\n",
        "        name_prefix=prefix,\n",
        "    )\n",
        "\n",
        "    obs = eval_env.reset()\n",
        "    for _ in range(video_length):\n",
        "        action, _ = model.predict(obs)\n",
        "        obs, _, _, _ = eval_env.step(action)\n",
        "\n",
        "    # Close the video recorder\n",
        "    eval_env.close()"
      ]
    },
    {
      "cell_type": "markdown",
      "metadata": {
        "id": "KOObbeu5MMlR"
      },
      "source": [
        "### Visualize trained agent\n",
        "\n"
      ]
    },
    {
      "cell_type": "code",
      "execution_count": 22,
      "metadata": {
        "id": "iATu7AiyMQW2"
      },
      "outputs": [
        {
          "name": "stdout",
          "output_type": "stream",
          "text": [
            "Saving video to /Users/khushi.malik/GitProjects/brawlhalla_RL_agent/videos/ppo-cartpole-step-0-to-step-500.mp4\n",
            "MoviePy - Building video /Users/khushi.malik/GitProjects/brawlhalla_RL_agent/videos/ppo-cartpole-step-0-to-step-500.mp4.\n",
            "MoviePy - Writing video /Users/khushi.malik/GitProjects/brawlhalla_RL_agent/videos/ppo-cartpole-step-0-to-step-500.mp4\n",
            "\n"
          ]
        },
        {
          "name": "stderr",
          "output_type": "stream",
          "text": [
            "                                                                          \r"
          ]
        },
        {
          "name": "stdout",
          "output_type": "stream",
          "text": [
            "MoviePy - Done !\n",
            "MoviePy - video ready /Users/khushi.malik/GitProjects/brawlhalla_RL_agent/videos/ppo-cartpole-step-0-to-step-500.mp4\n"
          ]
        }
      ],
      "source": [
        "record_video(\"CartPole-v1\", model, video_length=500, prefix=\"ppo-cartpole\")"
      ]
    },
    {
      "cell_type": "code",
      "execution_count": 23,
      "metadata": {
        "id": "-n4i-fW3NojZ"
      },
      "outputs": [
        {
          "data": {
            "text/html": [
              "<video alt=\"videos/ppo-cartpole-step-0-to-step-500.mp4\" autoplay\n",
              "                    loop controls style=\"height: 400px;\">\n",
              "                    <source src=\"data:video/mp4;base64,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\" type=\"video/mp4\" />\n",
              "                </video>"
            ],
            "text/plain": [
              "<IPython.core.display.HTML object>"
            ]
          },
          "metadata": {},
          "output_type": "display_data"
        }
      ],
      "source": [
        "show_videos(\"videos\", prefix=\"ppo\")"
      ]
    },
    {
      "cell_type": "markdown",
      "metadata": {
        "id": "9Y8zg4V566qD"
      },
      "source": [
        "## Bonus: Train a RL Model in One Line\n",
        "\n",
        "The policy class to use will be inferred and the environment will be automatically created. This works because both are [registered](https://stable-baselines.readthedocs.io/en/master/guide/quickstart.html)."
      ]
    },
    {
      "cell_type": "code",
      "execution_count": null,
      "metadata": {
        "id": "iaOPfOrwWEP4"
      },
      "outputs": [
        {
          "name": "stdout",
          "output_type": "stream",
          "text": [
            "Using cpu device\n",
            "Creating environment from the given name 'CartPole-v1'\n",
            "Wrapping the env with a `Monitor` wrapper\n",
            "Wrapping the env in a DummyVecEnv.\n",
            "---------------------------------\n",
            "| rollout/           |          |\n",
            "|    ep_len_mean     | 23.5     |\n",
            "|    ep_rew_mean     | 23.5     |\n",
            "| time/              |          |\n",
            "|    fps             | 5539     |\n",
            "|    iterations      | 1        |\n",
            "|    time_elapsed    | 0        |\n",
            "|    total_timesteps | 2048     |\n",
            "---------------------------------\n"
          ]
        }
      ],
      "source": [
        "model = PPO('MlpPolicy', \"CartPole-v1\", verbose=1).learn(1000)"
      ]
    },
    {
      "cell_type": "markdown",
      "metadata": {
        "id": "FrI6f5fWnzp-"
      },
      "source": [
        "## Conclusion\n",
        "\n",
        "In this notebook we have seen:\n",
        "- how to define and train a RL model using stable baselines3, it takes only one line of code ;)\n"
      ]
    }
  ],
  "metadata": {
    "accelerator": "GPU",
    "colab": {
      "name": "1_getting_started.ipynb",
      "provenance": []
    },
    "kernelspec": {
      "display_name": "Python 3",
      "language": "python",
      "name": "python3"
    },
    "language_info": {
      "codemirror_mode": {
        "name": "ipython",
        "version": 3
      },
      "file_extension": ".py",
      "mimetype": "text/x-python",
      "name": "python",
      "nbconvert_exporter": "python",
      "pygments_lexer": "ipython3",
      "version": "3.10.6"
    }
  },
  "nbformat": 4,
  "nbformat_minor": 0
}
